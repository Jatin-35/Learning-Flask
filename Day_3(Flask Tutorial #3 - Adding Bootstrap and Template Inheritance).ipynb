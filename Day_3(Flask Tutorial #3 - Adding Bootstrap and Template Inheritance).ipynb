{
 "cells": [
  {
   "cell_type": "code",
   "execution_count": null,
   "id": "43e38e77",
   "metadata": {},
   "outputs": [
    {
     "name": "stdout",
     "output_type": "stream",
     "text": [
      " * Serving Flask app '__main__'\n",
      " * Debug mode: on\n"
     ]
    },
    {
     "name": "stderr",
     "output_type": "stream",
     "text": [
      "WARNING: This is a development server. Do not use it in a production deployment. Use a production WSGI server instead.\n",
      " * Running on http://127.0.0.1:9000\n",
      "Press CTRL+C to quit\n",
      "127.0.0.1 - - [14/May/2024 22:10:53] \"GET / HTTP/1.1\" 200 -\n",
      "127.0.0.1 - - [14/May/2024 22:11:24] \"GET /test HTTP/1.1\" 200 -\n"
     ]
    }
   ],
   "source": [
    "from flask import Flask , redirect , url_for , render_template\n",
    "\n",
    "app = Flask(__name__)\n",
    "\n",
    "@app.route(\"/\")\n",
    "def home() :\n",
    "    return  render_template(\"index.html\" , content = \"Testing\")\n",
    "\n",
    "@app.route(\"/test\")\n",
    "def test() :\n",
    "    return render_template(\"new.html\")\n",
    "\n",
    "if __name__ == \"__main__\" :\n",
    "    app.run(debug = True , use_reloader = False , port = 9000)"
   ]
  },
  {
   "cell_type": "code",
   "execution_count": null,
   "id": "0ca6d03e",
   "metadata": {},
   "outputs": [],
   "source": []
  }
 ],
 "metadata": {
  "kernelspec": {
   "display_name": "Python 3 (ipykernel)",
   "language": "python",
   "name": "python3"
  },
  "language_info": {
   "codemirror_mode": {
    "name": "ipython",
    "version": 3
   },
   "file_extension": ".py",
   "mimetype": "text/x-python",
   "name": "python",
   "nbconvert_exporter": "python",
   "pygments_lexer": "ipython3",
   "version": "3.11.5"
  }
 },
 "nbformat": 4,
 "nbformat_minor": 5
}
