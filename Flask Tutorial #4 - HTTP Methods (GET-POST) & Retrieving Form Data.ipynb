{
 "cells": [
  {
   "cell_type": "code",
   "execution_count": null,
   "id": "21766717",
   "metadata": {},
   "outputs": [
    {
     "name": "stdout",
     "output_type": "stream",
     "text": [
      " * Serving Flask app '__main__'\n",
      " * Debug mode: on\n"
     ]
    },
    {
     "name": "stderr",
     "output_type": "stream",
     "text": [
      "WARNING: This is a development server. Do not use it in a production deployment. Use a production WSGI server instead.\n",
      " * Running on http://127.0.0.1:5000\n",
      "Press CTRL+C to quit\n",
      "127.0.0.1 - - [16/May/2024 15:18:38] \"GET / HTTP/1.1\" 200 -\n",
      "127.0.0.1 - - [16/May/2024 15:18:39] \"GET /favicon.ico HTTP/1.1\" 200 -\n",
      "127.0.0.1 - - [16/May/2024 15:18:44] \"GET /login HTTP/1.1\" 200 -\n",
      "127.0.0.1 - - [16/May/2024 15:18:45] \"GET /favicon.ico HTTP/1.1\" 200 -\n",
      "127.0.0.1 - - [16/May/2024 15:18:47] \"POST /login HTTP/1.1\" 302 -\n",
      "127.0.0.1 - - [16/May/2024 15:18:47] \"GET /hello HTTP/1.1\" 200 -\n",
      "127.0.0.1 - - [16/May/2024 15:18:48] \"GET /favicon.ico HTTP/1.1\" 200 -\n"
     ]
    }
   ],
   "source": [
    "from flask import Flask , redirect , url_for , render_template , request\n",
    "\n",
    "app = Flask(__name__)\n",
    "\n",
    "@app.route(\"/\")\n",
    "def home() :\n",
    "    return render_template(\"index.html\")\n",
    "\n",
    "@app.route(\"/login\" , methods = [\"POST\" , \"GET\"])\n",
    "def login() :\n",
    "    if request.method == \"POST\" :\n",
    "        user = request.form[\"nm\"]\n",
    "        return redirect(url_for(\"user\" , usr = user))\n",
    "    else :\n",
    "        return render_template(\"login.html\")\n",
    "\n",
    "@app.route(\"/<usr>\")\n",
    "def user(usr) :\n",
    "    return f\"<h1> {usr} </h1>\"\n",
    "\n",
    "if __name__ == \"__main__\" :\n",
    "    app.run(debug = True , use_reloader = False )"
   ]
  },
  {
   "cell_type": "code",
   "execution_count": null,
   "id": "0783f1eb",
   "metadata": {},
   "outputs": [],
   "source": []
  }
 ],
 "metadata": {
  "kernelspec": {
   "display_name": "Python 3 (ipykernel)",
   "language": "python",
   "name": "python3"
  },
  "language_info": {
   "codemirror_mode": {
    "name": "ipython",
    "version": 3
   },
   "file_extension": ".py",
   "mimetype": "text/x-python",
   "name": "python",
   "nbconvert_exporter": "python",
   "pygments_lexer": "ipython3",
   "version": "3.11.5"
  }
 },
 "nbformat": 4,
 "nbformat_minor": 5
}
