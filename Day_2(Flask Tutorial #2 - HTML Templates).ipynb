{
 "cells": [
  {
   "cell_type": "code",
   "execution_count": null,
   "id": "e9d834a7",
   "metadata": {
    "scrolled": false
   },
   "outputs": [
    {
     "name": "stdout",
     "output_type": "stream",
     "text": [
      " * Serving Flask app '__main__'\n",
      " * Debug mode: on\n"
     ]
    },
    {
     "name": "stderr",
     "output_type": "stream",
     "text": [
      "WARNING: This is a development server. Do not use it in a production deployment. Use a production WSGI server instead.\n",
      " * Running on http://127.0.0.1:8000\n",
      "Press CTRL+C to quit\n",
      "127.0.0.1 - - [14/May/2024 12:57:33] \"GET / HTTP/1.1\" 200 -\n",
      "127.0.0.1 - - [14/May/2024 12:57:38] \"GET /test HTTP/1.1\" 200 -\n",
      "127.0.0.1 - - [14/May/2024 18:48:24] \"GET /test HTTP/1.1\" 500 -\n",
      "Traceback (most recent call last):\n",
      "  File \"C:\\Users\\Jatin\\anaconda3\\Lib\\site-packages\\flask\\app.py\", line 2552, in __call__\n",
      "    return self.wsgi_app(environ, start_response)\n",
      "           ^^^^^^^^^^^^^^^^^^^^^^^^^^^^^^^^^^^^^^\n",
      "  File \"C:\\Users\\Jatin\\anaconda3\\Lib\\site-packages\\flask\\app.py\", line 2532, in wsgi_app\n",
      "    response = self.handle_exception(e)\n",
      "               ^^^^^^^^^^^^^^^^^^^^^^^^\n",
      "  File \"C:\\Users\\Jatin\\anaconda3\\Lib\\site-packages\\flask\\app.py\", line 2529, in wsgi_app\n",
      "    response = self.full_dispatch_request()\n",
      "               ^^^^^^^^^^^^^^^^^^^^^^^^^^^^\n",
      "  File \"C:\\Users\\Jatin\\anaconda3\\Lib\\site-packages\\flask\\app.py\", line 1825, in full_dispatch_request\n",
      "    rv = self.handle_user_exception(e)\n",
      "         ^^^^^^^^^^^^^^^^^^^^^^^^^^^^^\n",
      "  File \"C:\\Users\\Jatin\\anaconda3\\Lib\\site-packages\\flask\\app.py\", line 1823, in full_dispatch_request\n",
      "    rv = self.dispatch_request()\n",
      "         ^^^^^^^^^^^^^^^^^^^^^^^\n",
      "  File \"C:\\Users\\Jatin\\anaconda3\\Lib\\site-packages\\flask\\app.py\", line 1799, in dispatch_request\n",
      "    return self.ensure_sync(self.view_functions[rule.endpoint])(**view_args)\n",
      "           ^^^^^^^^^^^^^^^^^^^^^^^^^^^^^^^^^^^^^^^^^^^^^^^^^^^^^^^^^^^^^^^^^\n",
      "  File \"C:\\Users\\Jatin\\AppData\\Local\\Temp\\ipykernel_18056\\3098295821.py\", line 8, in home\n",
      "    return render_template(\"index.html\" , content = [\"jatin\",\"mahi\" , \"tamana\"])\n",
      "           ^^^^^^^^^^^^^^^^^^^^^^^^^^^^^^^^^^^^^^^^^^^^^^^^^^^^^^^^^^^^^^^^^^^^^\n",
      "  File \"C:\\Users\\Jatin\\anaconda3\\Lib\\site-packages\\flask\\templating.py\", line 146, in render_template\n",
      "    template = app.jinja_env.get_or_select_template(template_name_or_list)\n",
      "               ^^^^^^^^^^^^^^^^^^^^^^^^^^^^^^^^^^^^^^^^^^^^^^^^^^^^^^^^^^^\n",
      "  File \"C:\\Users\\Jatin\\anaconda3\\Lib\\site-packages\\jinja2\\environment.py\", line 1081, in get_or_select_template\n",
      "    return self.get_template(template_name_or_list, parent, globals)\n",
      "           ^^^^^^^^^^^^^^^^^^^^^^^^^^^^^^^^^^^^^^^^^^^^^^^^^^^^^^^^^\n",
      "  File \"C:\\Users\\Jatin\\anaconda3\\Lib\\site-packages\\jinja2\\environment.py\", line 1010, in get_template\n",
      "    return self._load_template(name, globals)\n",
      "           ^^^^^^^^^^^^^^^^^^^^^^^^^^^^^^^^^^\n",
      "  File \"C:\\Users\\Jatin\\anaconda3\\Lib\\site-packages\\jinja2\\environment.py\", line 969, in _load_template\n",
      "    template = self.loader.load(self, name, self.make_globals(globals))\n",
      "               ^^^^^^^^^^^^^^^^^^^^^^^^^^^^^^^^^^^^^^^^^^^^^^^^^^^^^^^^\n",
      "  File \"C:\\Users\\Jatin\\anaconda3\\Lib\\site-packages\\jinja2\\loaders.py\", line 137, in load\n",
      "    code = environment.compile(source, name, filename)\n",
      "           ^^^^^^^^^^^^^^^^^^^^^^^^^^^^^^^^^^^^^^^^^^^\n",
      "  File \"C:\\Users\\Jatin\\anaconda3\\Lib\\site-packages\\jinja2\\environment.py\", line 768, in compile\n",
      "    self.handle_exception(source=source_hint)\n",
      "  File \"C:\\Users\\Jatin\\anaconda3\\Lib\\site-packages\\jinja2\\environment.py\", line 936, in handle_exception\n",
      "    raise rewrite_traceback_stack(source=source)\n",
      "  File \"C:\\Users\\Jatin\\Desktop\\Learning_flask_w_Python\\templates\\index.html\", line 17, in template\n",
      "    {% else %}\n",
      "jinja2.exceptions.TemplateSyntaxError: Unexpected end of template. Jinja was looking for the following tags: 'endif'. The innermost block that needs to be closed is 'if'.\n",
      "127.0.0.1 - - [14/May/2024 18:48:24] \"GET /test?__debugger__=yes&cmd=resource&f=style.css HTTP/1.1\" 304 -\n",
      "127.0.0.1 - - [14/May/2024 18:48:24] \"GET /test?__debugger__=yes&cmd=resource&f=debugger.js HTTP/1.1\" 304 -\n",
      "127.0.0.1 - - [14/May/2024 18:48:25] \"GET /test?__debugger__=yes&cmd=resource&f=console.png HTTP/1.1\" 304 -\n",
      "127.0.0.1 - - [14/May/2024 18:48:25] \"GET /test?__debugger__=yes&cmd=resource&f=console.png HTTP/1.1\" 304 -\n",
      "127.0.0.1 - - [14/May/2024 18:48:48] \"GET /test HTTP/1.1\" 200 -\n"
     ]
    }
   ],
   "source": [
    "from flask import Flask, render_template\n",
    "\n",
    "app = Flask(__name__)\n",
    "\n",
    "@app.route(\"/<name>\")\n",
    "def home(name):\n",
    "#     return render_template(\"index.html\" , content = name , r =4)\n",
    "      return render_template(\"index.html\" , content = [\"jatin\",\"mahi\" , \"tamana\"])\n",
    "\n",
    "@app.route(\"/\")\n",
    "def def_home():\n",
    "    return \"<h1>Hui!<h1!>\"\n",
    "\n",
    "if __name__ == \"__main__\":\n",
    "    app.run(debug=True, use_reloader=False , port = 8000)\n",
    "\n",
    "\n"
   ]
  },
  {
   "cell_type": "code",
   "execution_count": null,
   "id": "0b8d66ba",
   "metadata": {},
   "outputs": [],
   "source": [
    "%tb"
   ]
  },
  {
   "cell_type": "code",
   "execution_count": null,
   "id": "afea6f7d",
   "metadata": {},
   "outputs": [],
   "source": []
  }
 ],
 "metadata": {
  "kernelspec": {
   "display_name": "Python 3 (ipykernel)",
   "language": "python",
   "name": "python3"
  },
  "language_info": {
   "codemirror_mode": {
    "name": "ipython",
    "version": 3
   },
   "file_extension": ".py",
   "mimetype": "text/x-python",
   "name": "python",
   "nbconvert_exporter": "python",
   "pygments_lexer": "ipython3",
   "version": "3.11.5"
  }
 },
 "nbformat": 4,
 "nbformat_minor": 5
}
