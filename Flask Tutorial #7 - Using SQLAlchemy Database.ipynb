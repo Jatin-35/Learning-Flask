{
 "cells": [
  {
   "cell_type": "code",
   "execution_count": 1,
   "id": "de6b3fec",
   "metadata": {},
   "outputs": [
    {
     "name": "stdout",
     "output_type": "stream",
     "text": [
      "Collecting flask-sqlalchemy\n",
      "  Obtaining dependency information for flask-sqlalchemy from https://files.pythonhosted.org/packages/1d/6a/89963a5c6ecf166e8be29e0d1bf6806051ee8fe6c82e232842e3aeac9204/flask_sqlalchemy-3.1.1-py3-none-any.whl.metadata\n",
      "  Downloading flask_sqlalchemy-3.1.1-py3-none-any.whl.metadata (3.4 kB)\n",
      "Requirement already satisfied: flask>=2.2.5 in c:\\users\\jatin\\anaconda3\\lib\\site-packages (from flask-sqlalchemy) (2.2.5)\n",
      "Requirement already satisfied: sqlalchemy>=2.0.16 in c:\\users\\jatin\\anaconda3\\lib\\site-packages (from flask-sqlalchemy) (2.0.25)\n",
      "Requirement already satisfied: Werkzeug>=2.2.2 in c:\\users\\jatin\\anaconda3\\lib\\site-packages (from flask>=2.2.5->flask-sqlalchemy) (2.2.3)\n",
      "Requirement already satisfied: Jinja2>=3.0 in c:\\users\\jatin\\anaconda3\\lib\\site-packages (from flask>=2.2.5->flask-sqlalchemy) (3.1.3)\n",
      "Requirement already satisfied: itsdangerous>=2.0 in c:\\users\\jatin\\anaconda3\\lib\\site-packages (from flask>=2.2.5->flask-sqlalchemy) (2.0.1)\n",
      "Requirement already satisfied: click>=8.0 in c:\\users\\jatin\\anaconda3\\lib\\site-packages (from flask>=2.2.5->flask-sqlalchemy) (8.1.7)\n",
      "Requirement already satisfied: typing-extensions>=4.6.0 in c:\\users\\jatin\\anaconda3\\lib\\site-packages (from sqlalchemy>=2.0.16->flask-sqlalchemy) (4.9.0)\n",
      "Requirement already satisfied: greenlet!=0.4.17 in c:\\users\\jatin\\anaconda3\\lib\\site-packages (from sqlalchemy>=2.0.16->flask-sqlalchemy) (3.0.1)\n",
      "Requirement already satisfied: colorama in c:\\users\\jatin\\anaconda3\\lib\\site-packages (from click>=8.0->flask>=2.2.5->flask-sqlalchemy) (0.4.6)\n",
      "Requirement already satisfied: MarkupSafe>=2.0 in c:\\users\\jatin\\anaconda3\\lib\\site-packages (from Jinja2>=3.0->flask>=2.2.5->flask-sqlalchemy) (2.1.3)\n",
      "Downloading flask_sqlalchemy-3.1.1-py3-none-any.whl (25 kB)\n",
      "Installing collected packages: flask-sqlalchemy\n",
      "Successfully installed flask-sqlalchemy-3.1.1\n",
      "Note: you may need to restart the kernel to use updated packages.\n"
     ]
    }
   ],
   "source": [
    "pip install flask-sqlalchemy"
   ]
  },
  {
   "cell_type": "code",
   "execution_count": null,
   "id": "65e53b43",
   "metadata": {},
   "outputs": [
    {
     "name": "stdout",
     "output_type": "stream",
     "text": [
      " * Serving Flask app '__main__'\n",
      " * Debug mode: on\n"
     ]
    },
    {
     "name": "stderr",
     "output_type": "stream",
     "text": [
      "WARNING: This is a development server. Do not use it in a production deployment. Use a production WSGI server instead.\n",
      " * Running on http://127.0.0.1:7000\n",
      "Press CTRL+C to quit\n",
      "127.0.0.1 - - [21/May/2024 16:00:32] \"GET / HTTP/1.1\" 200 -\n",
      "127.0.0.1 - - [21/May/2024 16:00:37] \"GET /login HTTP/1.1\" 302 -\n",
      "127.0.0.1 - - [21/May/2024 16:00:37] \"GET /user HTTP/1.1\" 200 -\n",
      "127.0.0.1 - - [21/May/2024 16:00:39] \"POST /user HTTP/1.1\" 200 -\n"
     ]
    }
   ],
   "source": [
    "from flask import Flask , redirect , url_for , render_template ,flash , request , session\n",
    "from datetime import timedelta\n",
    "from flask_sqlalchemy import SQLAlchemy\n",
    "\n",
    "app = Flask(__name__)\n",
    "app.secret_key = \"hello\"\n",
    "app.config['SQLALCHEMY_DATABASE_URI'] = 'sqlite:///users.sqlite3'\n",
    "app.config[\"SQLALCHEMY_TRACK_MODIFICATIONS\"] = False\n",
    "app.permanent_session_lifetime = timedelta(minutes = 5)\n",
    "\n",
    "db = SQLAlchemy(app)\n",
    "\n",
    "class users(db.Model) :\n",
    "    _id = db.column(\"id\",db.Integer , primary_key = True)\n",
    "    name = db.column( db.String(100))\n",
    "    email = db.column(db.String(100))\n",
    "    \n",
    "    def __init__(self , name , email) :\n",
    "        self.name = name\n",
    "        self.email = email\n",
    "\n",
    "@app.route(\"/\")\n",
    "def home() :\n",
    "    return render_template(\"index.html\")\n",
    "\n",
    "@app.route(\"/login\" , methods = [\"GET\" , \"POST\"])\n",
    "def login() :\n",
    "    if request.method == \"POST\" :\n",
    "        session.permanent = True\n",
    "        user = request.form[\"nm\"]\n",
    "        session[\"user\"] = user\n",
    "        \n",
    "        flash(\"Login Sucessful\" , \"info\")\n",
    "        return redirect(url_for(\"user\"))\n",
    "    \n",
    "    else :\n",
    "        if \"user\" in  session :\n",
    "            flash(\"Already Logged In!!\" , \"info\")\n",
    "            return redirect(url_for(\"user\"))\n",
    "        else :\n",
    "            return render_template(\"login.html\")\n",
    "    \n",
    "@app.route(\"/user\" , methods = [\"POST\" , \"GET\"])\n",
    "def user() :\n",
    "    email = None\n",
    "    if \"user\" in session :\n",
    "        user = session[\"user\"]\n",
    "        \n",
    "        if request.method == \"POST\" :\n",
    "            email = request.form[\"email\"]\n",
    "            session[\"email\"] = email\n",
    "            flash(\"Email was saved!\")\n",
    "            \n",
    "        else :\n",
    "            if \"email\" in session :\n",
    "                email = session[\"email\"]\n",
    "        return render_template(\"user.html\" , email = email )\n",
    "    else :\n",
    "        flash(\"You are not Logged In !\" , \"info\")\n",
    "        return render_template(\"login.html\")\n",
    "    \n",
    "\n",
    "@app.route(\"/logout\")\n",
    "def logout() :\n",
    "    if \"user\" in session :\n",
    "        user = session[\"user\"]\n",
    "        flash(f\"You have been loggged out , {user}\" , \"info\")\n",
    "    session.pop(\"user\" , None)\n",
    "    session.pop(\"email\" , None)\n",
    "    return render_template(\"login.html\")\n",
    "\n",
    "if __name__ == \"__main__\" :\n",
    "    db.create_all()\n",
    "    app.run(debug = True , use_reloader = False , port = 7000)"
   ]
  },
  {
   "cell_type": "code",
   "execution_count": null,
   "id": "7ea6a228",
   "metadata": {},
   "outputs": [],
   "source": []
  }
 ],
 "metadata": {
  "kernelspec": {
   "display_name": "Python 3 (ipykernel)",
   "language": "python",
   "name": "python3"
  },
  "language_info": {
   "codemirror_mode": {
    "name": "ipython",
    "version": 3
   },
   "file_extension": ".py",
   "mimetype": "text/x-python",
   "name": "python",
   "nbconvert_exporter": "python",
   "pygments_lexer": "ipython3",
   "version": "3.11.5"
  }
 },
 "nbformat": 4,
 "nbformat_minor": 5
}
