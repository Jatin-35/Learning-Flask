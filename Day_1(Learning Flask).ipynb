{
 "cells": [
  {
   "cell_type": "code",
   "execution_count": null,
   "id": "6d8b0bfa-11e1-4e67-aa8e-2fc19a558d77",
   "metadata": {},
   "outputs": [],
   "source": [
    "pip install flask"
   ]
  },
  {
   "cell_type": "code",
   "execution_count": null,
   "id": "b8e91d7e-7ef3-4cc0-ac98-533eacb50b14",
   "metadata": {},
   "outputs": [],
   "source": [
    "# from flask import Flask"
   ]
  },
  {
   "cell_type": "code",
   "execution_count": null,
   "id": "41d9c86c-2681-432f-b64e-75c0e524171b",
   "metadata": {},
   "outputs": [],
   "source": [
    "# app = Flask(__name__)\n",
    "\n",
    "# @app.route(\"/\")\n",
    "# def home() :\n",
    "#     return \"Hello ! , This is <h1>Main Page<h1>\"\n",
    "\n",
    "# if  __name__ == \"__main__\" :\n",
    "#     app.run()"
   ]
  },
  {
   "cell_type": "code",
   "execution_count": null,
   "id": "0cefd64e-5b34-4293-9779-cca86b0e37b6",
   "metadata": {},
   "outputs": [],
   "source": [
    "# app = Flask(__name__)\n",
    "\n",
    "# @app.route(\"/\")\n",
    "# def home() :\n",
    "#     return \"Hello ! , This is <h1>Main Page<h1>\"\n",
    "\n",
    "# @app.route(\"/<name>\")\n",
    "# def user(name) :\n",
    "#     return f\"Hello {name}!\"\n",
    "\n",
    "# if  __name__ == \"__main__\" :\n",
    "#     app.run()"
   ]
  },
  {
   "cell_type": "code",
   "execution_count": null,
   "id": "15fd8858-3a7e-460e-9c40-cf26e557df16",
   "metadata": {},
   "outputs": [
    {
     "name": "stdout",
     "output_type": "stream",
     "text": [
      " * Serving Flask app '__main__'\n",
      " * Debug mode: on\n"
     ]
    },
    {
     "name": "stderr",
     "output_type": "stream",
     "text": [
      "WARNING: This is a development server. Do not use it in a production deployment. Use a production WSGI server instead.\n",
      " * Running on http://127.0.0.1:5000\n",
      "Press CTRL+C to quit\n",
      "127.0.0.1 - - [14/May/2024 11:47:43] \"GET / HTTP/1.1\" 200 -\n",
      "127.0.0.1 - - [14/May/2024 11:47:48] \"GET /admin/ HTTP/1.1\" 404 -\n",
      "127.0.0.1 - - [14/May/2024 11:47:52] \"GET /admin/ HTTP/1.1\" 404 -\n",
      "127.0.0.1 - - [14/May/2024 11:48:02] \"GET /admin/ HTTP/1.1\" 404 -\n",
      "127.0.0.1 - - [14/May/2024 11:48:06] \"GET /admin! HTTP/1.1\" 200 -\n",
      "127.0.0.1 - - [14/May/2024 11:48:12] \"GET /admin/ HTTP/1.1\" 404 -\n",
      "127.0.0.1 - - [14/May/2024 11:48:13] \"GET /admin/ HTTP/1.1\" 404 -\n"
     ]
    }
   ],
   "source": [
    "from flask import Flask , redirect , url_for\n",
    "\n",
    "\n",
    "app = Flask(__name__)\n",
    "\n",
    "@app.route(\"/\")\n",
    "def home() :\n",
    "    return \"Hello ! , This is <h1>Main Page<h1>\"\n",
    "\n",
    "@app.route(\"/<name>\")\n",
    "def user(name) :\n",
    "    return f\"Hello {name}!\"\n",
    "\n",
    "@app.route(\"/admin\")\n",
    "def admin() :\n",
    "    return redirect(url_for(\"user\", name = \"admin1\" ))\n",
    "\n",
    "if  __name__ == \"__main__\" :\n",
    "    app.run(debug=True, use_reloader=False)\n",
    "\n",
    "\n",
    "\n"
   ]
  },
  {
   "cell_type": "code",
   "execution_count": null,
   "id": "bccd6500-5b1b-4cb5-ab99-ac345458c6df",
   "metadata": {},
   "outputs": [],
   "source": []
  }
 ],
 "metadata": {
  "kernelspec": {
   "display_name": "Python 3 (ipykernel)",
   "language": "python",
   "name": "python3"
  },
  "language_info": {
   "codemirror_mode": {
    "name": "ipython",
    "version": 3
   },
   "file_extension": ".py",
   "mimetype": "text/x-python",
   "name": "python",
   "nbconvert_exporter": "python",
   "pygments_lexer": "ipython3",
   "version": "3.11.5"
  }
 },
 "nbformat": 4,
 "nbformat_minor": 5
}
