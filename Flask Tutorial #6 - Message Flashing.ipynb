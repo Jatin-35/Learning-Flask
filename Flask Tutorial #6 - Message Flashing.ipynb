{
 "cells": [
  {
   "cell_type": "code",
   "execution_count": null,
   "id": "9263f85d",
   "metadata": {},
   "outputs": [
    {
     "name": "stdout",
     "output_type": "stream",
     "text": [
      " * Serving Flask app '__main__'\n",
      " * Debug mode: on\n"
     ]
    },
    {
     "name": "stderr",
     "output_type": "stream",
     "text": [
      "WARNING: This is a development server. Do not use it in a production deployment. Use a production WSGI server instead.\n",
      " * Running on http://127.0.0.1:4000\n",
      "Press CTRL+C to quit\n",
      "127.0.0.1 - - [16/May/2024 21:46:32] \"GET / HTTP/1.1\" 200 -\n",
      "127.0.0.1 - - [16/May/2024 21:46:40] \"GET /login HTTP/1.1\" 200 -\n",
      "127.0.0.1 - - [16/May/2024 21:46:45] \"POST /login HTTP/1.1\" 302 -\n",
      "127.0.0.1 - - [16/May/2024 21:46:45] \"GET /user HTTP/1.1\" 200 -\n",
      "127.0.0.1 - - [16/May/2024 21:46:54] \"GET /logout HTTP/1.1\" 200 -\n",
      "127.0.0.1 - - [16/May/2024 21:47:22] \"POST /logout HTTP/1.1\" 405 -\n",
      "127.0.0.1 - - [16/May/2024 21:47:24] \"GET /logout HTTP/1.1\" 200 -\n",
      "127.0.0.1 - - [16/May/2024 21:47:32] \"POST /logout HTTP/1.1\" 405 -\n",
      "127.0.0.1 - - [16/May/2024 21:47:33] \"GET /logout HTTP/1.1\" 200 -\n",
      "127.0.0.1 - - [16/May/2024 21:47:40] \"POST /logout HTTP/1.1\" 405 -\n",
      "127.0.0.1 - - [16/May/2024 21:47:42] \"GET /logout HTTP/1.1\" 200 -\n",
      "127.0.0.1 - - [16/May/2024 21:47:49] \"GET /login HTTP/1.1\" 200 -\n",
      "127.0.0.1 - - [16/May/2024 21:47:53] \"POST /login HTTP/1.1\" 302 -\n",
      "127.0.0.1 - - [16/May/2024 21:47:53] \"GET /user HTTP/1.1\" 200 -\n",
      "127.0.0.1 - - [16/May/2024 21:48:03] \"GET /user HTTP/1.1\" 200 -\n",
      "127.0.0.1 - - [16/May/2024 21:48:22] \"GET /logout HTTP/1.1\" 200 -\n",
      "127.0.0.1 - - [16/May/2024 21:48:52] \"GET /user HTTP/1.1\" 200 -\n",
      "127.0.0.1 - - [16/May/2024 21:48:59] \"POST /user HTTP/1.1\" 405 -\n",
      "127.0.0.1 - - [16/May/2024 21:49:03] \"GET /user HTTP/1.1\" 200 -\n",
      "127.0.0.1 - - [16/May/2024 21:49:05] \"GET / HTTP/1.1\" 200 -\n",
      "127.0.0.1 - - [16/May/2024 21:49:10] \"GET /login HTTP/1.1\" 200 -\n",
      "127.0.0.1 - - [16/May/2024 21:49:14] \"POST /login HTTP/1.1\" 302 -\n",
      "127.0.0.1 - - [16/May/2024 21:49:14] \"GET /user HTTP/1.1\" 200 -\n",
      "127.0.0.1 - - [16/May/2024 21:49:21] \"GET /login HTTP/1.1\" 302 -\n",
      "127.0.0.1 - - [16/May/2024 21:49:21] \"GET /user HTTP/1.1\" 200 -\n"
     ]
    }
   ],
   "source": [
    "from flask import Flask , redirect , url_for , render_template ,flash , request , session\n",
    "from datetime import timedelta\n",
    "\n",
    "app = Flask(__name__)\n",
    "app.secret_key = \"hello\"\n",
    "app.permanent_session_lifetime = timedelta(minutes = 5)\n",
    "\n",
    "@app.route(\"/\")\n",
    "def home() :\n",
    "    return render_template(\"index.html\")\n",
    "\n",
    "@app.route(\"/login\" , methods = [\"GET\" , \"POST\"])\n",
    "def login() :\n",
    "    if request.method == \"POST\" :\n",
    "        session.permanent = True\n",
    "        user = request.form[\"nm\"]\n",
    "        session[\"user\"] = user\n",
    "        flash(\"Login Sucessful\" , \"info\")\n",
    "        return redirect(url_for(\"user\"))\n",
    "    \n",
    "    else :\n",
    "        if \"user\" in  session :\n",
    "            flash(\"Already Logged In!!\" , \"info\")\n",
    "            return redirect(url_for(\"user\"))\n",
    "        else :\n",
    "            return render_template(\"login.html\")\n",
    "    \n",
    "@app.route(\"/user\")\n",
    "def user() :\n",
    "    if \"user\" in session :\n",
    "        user = session[\"user\"]\n",
    "        return render_template(\"user.html\" , user = user )\n",
    "    else :\n",
    "        flash(\"You are not Logged In !\" , \"info\")\n",
    "        return render_template(\"login.html\")\n",
    "    \n",
    "\n",
    "@app.route(\"/logout\")\n",
    "def logout() :\n",
    "    if \"user\" in session :\n",
    "        user = session[\"user\"]\n",
    "        flash(f\"You have been loggged out , {user}\" , \"info\")\n",
    "    session.pop(\"user\" , None)\n",
    "    return render_template(\"login.html\")\n",
    "\n",
    "if __name__ == \"__main__\" :\n",
    "    app.run(debug = True , use_reloader = False , port = 4000)"
   ]
  },
  {
   "cell_type": "code",
   "execution_count": null,
   "id": "a961d784",
   "metadata": {},
   "outputs": [],
   "source": [
    "%tb\n"
   ]
  },
  {
   "cell_type": "code",
   "execution_count": null,
   "id": "159322d9",
   "metadata": {},
   "outputs": [],
   "source": []
  }
 ],
 "metadata": {
  "kernelspec": {
   "display_name": "Python 3 (ipykernel)",
   "language": "python",
   "name": "python3"
  },
  "language_info": {
   "codemirror_mode": {
    "name": "ipython",
    "version": 3
   },
   "file_extension": ".py",
   "mimetype": "text/x-python",
   "name": "python",
   "nbconvert_exporter": "python",
   "pygments_lexer": "ipython3",
   "version": "3.11.5"
  }
 },
 "nbformat": 4,
 "nbformat_minor": 5
}
