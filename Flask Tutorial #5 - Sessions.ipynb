{
 "cells": [
  {
   "cell_type": "code",
   "execution_count": null,
   "id": "4a6a31a1",
   "metadata": {},
   "outputs": [
    {
     "name": "stdout",
     "output_type": "stream",
     "text": [
      " * Serving Flask app '__main__'\n",
      " * Debug mode: on\n"
     ]
    },
    {
     "name": "stderr",
     "output_type": "stream",
     "text": [
      "WARNING: This is a development server. Do not use it in a production deployment. Use a production WSGI server instead.\n",
      " * Running on http://127.0.0.1:9000\n",
      "Press CTRL+C to quit\n"
     ]
    }
   ],
   "source": [
    "from flask import Flask , redirect , url_for , render_template , session , request\n",
    "from datetime import timedelta\n",
    "\n",
    "\n",
    "app = Flask(__name__)\n",
    "app.secret_key = \"hi\"\n",
    "app.permanent_session_lifetime = timedelta(minutes = 5)  ## days = 5\n",
    "\n",
    "@app.route(\"/\")\n",
    "def home() :\n",
    "    return render_template(\"index.html\")\n",
    "\n",
    "@app.route(\"/login\" , methods = [\"POST\" , \"GET\"])\n",
    "def login() :\n",
    "    if request.method == \"POST\" :\n",
    "        session.permanent = True\n",
    "        user = request.form[\"nm\"]\n",
    "        session[\"user\"] = user\n",
    "        return redirect(url_for(\"user\"))\n",
    "    else :\n",
    "        if \"user\" in session :\n",
    "            return redirect(url_for(\"user\"))\n",
    "        else :\n",
    "            return render_template(\"login.html\")\n",
    "    \n",
    "@app.route(\"/user\") \n",
    "def user() :\n",
    "    if \"user\" in session :\n",
    "        user = session[\"user\"]\n",
    "        return  f\"<h1>{user}</h1>\"\n",
    "    else :\n",
    "        return redirect(url_for(\"login.html\"))\n",
    "    \n",
    "@app.route(\"/logout\")\n",
    "def logout() :\n",
    "    session.pop(\"user\" , None)\n",
    "    return redirect(url_for(\"login.html\"))\n",
    "    \n",
    "if __name__ == \"__main__\" :\n",
    "    app.run(debug = True , use_reloader = False, port = 9000)"
   ]
  },
  {
   "cell_type": "code",
   "execution_count": null,
   "id": "d105a7f9",
   "metadata": {},
   "outputs": [],
   "source": [
    "%tb"
   ]
  },
  {
   "cell_type": "code",
   "execution_count": null,
   "id": "cb8e6ace",
   "metadata": {},
   "outputs": [],
   "source": []
  }
 ],
 "metadata": {
  "kernelspec": {
   "display_name": "Python 3 (ipykernel)",
   "language": "python",
   "name": "python3"
  },
  "language_info": {
   "codemirror_mode": {
    "name": "ipython",
    "version": 3
   },
   "file_extension": ".py",
   "mimetype": "text/x-python",
   "name": "python",
   "nbconvert_exporter": "python",
   "pygments_lexer": "ipython3",
   "version": "3.11.5"
  }
 },
 "nbformat": 4,
 "nbformat_minor": 5
}
